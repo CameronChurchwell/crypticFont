{
 "cells": [
  {
   "cell_type": "code",
   "execution_count": 1,
   "metadata": {},
   "outputs": [],
   "source": [
    "import struct"
   ]
  },
  {
   "cell_type": "code",
   "execution_count": 2,
   "metadata": {},
   "outputs": [],
   "source": [
    "def readObject(object_type):\n",
    "    if object_type == \"uint32\":\n",
    "        return struct.unpack(\">I\", f.read(4))[0]\n",
    "    elif object_type == \"uint16\":\n",
    "        return struct.unpack(\">H\", f.read(2))[0]\n",
    "    elif object_type == \"uint8\":\n",
    "        return struct.unpack(\">B\", f.read(1))[0]\n",
    "    elif object_type == \"formal_tag\":\n",
    "        arr = []\n",
    "        for i in range(0, 4):\n",
    "            arr.append(readObject(\"uint8\"))\n",
    "        return arr\n",
    "    elif object_type == \"informal_tag\":\n",
    "        tag = \"\"\n",
    "        for i in range(0, 4):\n",
    "            tag += chr(struct.unpack(\">B\", f.read(1))[0])\n",
    "        return tag\n",
    "    else:\n",
    "        raise ValueError(\"Type Not Understood\")"
   ]
  },
  {
   "cell_type": "code",
   "execution_count": 3,
   "metadata": {},
   "outputs": [],
   "source": [
    "#debug\n",
    "if \"f\" in globals().keys():\n",
    "    f.close()\n",
    "    print(\"File Reloaded!\")\n",
    "\n",
    "file_name = \"SFNS.ttf\"\n",
    "#file_name = \"Symbol.ttf\"\n",
    "f = open(file_name, \"r\")"
   ]
  },
  {
   "cell_type": "code",
   "execution_count": 4,
   "metadata": {},
   "outputs": [],
   "source": [
    "assert readObject(\"uint32\") == 0x00010000"
   ]
  },
  {
   "cell_type": "code",
   "execution_count": 5,
   "metadata": {},
   "outputs": [],
   "source": [
    "numTables = readObject(\"uint16\")\n",
    "searchRange = readObject(\"uint16\")\n",
    "entrySelector = readObject(\"uint16\")\n",
    "rangeShift = readObject(\"uint16\")"
   ]
  },
  {
   "cell_type": "code",
   "execution_count": 6,
   "metadata": {},
   "outputs": [],
   "source": [
    "tags = []\n",
    "checkSums = []\n",
    "offsets = []\n",
    "lengths = []\n",
    "for i in range(0, numTables):\n",
    "    tags.append(readObject(\"informal_tag\"))\n",
    "    checkSums.append(readObject(\"uint32\"))\n",
    "    offsets.append(readObject(\"uint32\"))\n",
    "    lengths.append(readObject(\"uint32\"))"
   ]
  },
  {
   "cell_type": "code",
   "execution_count": 7,
   "metadata": {},
   "outputs": [],
   "source": [
    "tableMemory = []\n",
    "for i in range(0, numTables):\n",
    "    f.seek(offsets[i])\n",
    "    #tableMemory.append(f.read((lengths[i] + 3) / 4 * 4))\n",
    "    tableMemory.append(f.read(lengths[i]))"
   ]
  },
  {
   "cell_type": "code",
   "execution_count": 8,
   "metadata": {
    "scrolled": true
   },
   "outputs": [
    {
     "name": "stdout",
     "output_type": "stream",
     "text": [
      "\u0000S\u0000y\u0000s\u0000t\u0000e\u0000m\u0000 \u0000F\u0000o\u0000n\u0000t\n"
     ]
    }
   ],
   "source": [
    "nameTableIndex = tags.index(\"name\")\n",
    "nameTable = tableMemory[nameTableIndex]\n",
    "\n",
    "assert struct.unpack(\">H\", nameTable[0:0+2])[0] == 0\n",
    "\n",
    "stringStorageOffset = struct.unpack(\">H\", nameTable[4:4+2])[0]\n",
    "\n",
    "#in bytes\n",
    "assumedNameLength = 22\n",
    "\n",
    "#assume first record is the unicode one\n",
    "assert struct.unpack(\">H\", nameTable[6:6+2])[0] == 0\n",
    "assert struct.unpack(\">H\", nameTable[12:12+2])[0] == 4\n",
    "assert struct.unpack(\">H\", nameTable[14:14+2])[0] == assumedNameLength\n",
    "nameOffset = struct.unpack(\">H\", nameTable[16:16+2])[0]\n",
    "\n",
    "nameStringOffset = stringStorageOffset + nameOffset\n",
    "\n",
    "newName = \"Randomized1\"\n",
    "newNameBinary = \"\"\n",
    "for i in range(0, assumedNameLength / 2):\n",
    "    newNameBinary += struct.pack(\">H\", ord(newName[i]))\n",
    "\n",
    "print(nameTable[nameStringOffset:nameStringOffset + assumedNameLength])    \n",
    "\n",
    "nameTable = nameTable[:nameStringOffset] + newNameBinary + nameTable[nameStringOffset+assumedNameLength:]\n",
    "\n",
    "tableMemory[nameTableIndex] = nameTable"
   ]
  },
  {
   "cell_type": "code",
   "execution_count": 9,
   "metadata": {},
   "outputs": [],
   "source": [
    "#change the PostScript name so that the font is not picked up as a system font (oops)\n",
    "\n",
    "#assume index is 27\n",
    "psNameIndex = 27\n",
    "\n",
    "psNameRecordOffset = 6 + 12 * psNameIndex #6 byte header and 12 byte subTables\n",
    "\n",
    "assert struct.unpack(\">H\", nameTable[psNameRecordOffset+6:psNameRecordOffset+6+2])[0] == 6 #check if psName\n",
    "\n",
    "assumedPsNameLength = 26\n",
    "\n",
    "assert struct.unpack(\">H\", nameTable[psNameRecordOffset+8:psNameRecordOffset+8+2])[0] == assumedPsNameLength\n",
    "\n",
    "psNameOffset = struct.unpack(\">H\", nameTable[psNameRecordOffset+10:psNameRecordOffset+10+2])[0]\n",
    "\n",
    "psNameStringOffset = stringStorageOffset + psNameOffset\n",
    "\n",
    "newPsName = \".RandomizedV1\"\n",
    "newPsNameBinary = \"\"\n",
    "for i in range(0, assumedPsNameLength / 2):\n",
    "    newPsNameBinary += struct.pack(\">H\", ord(newPsName[i]))\n",
    "    \n",
    "nameTable = nameTable[:psNameStringOffset] + newPsNameBinary + nameTable[psNameStringOffset+assumedPsNameLength:]\n",
    "\n",
    "tableMemory[nameTableIndex] = nameTable"
   ]
  },
  {
   "cell_type": "code",
   "execution_count": 10,
   "metadata": {},
   "outputs": [],
   "source": [
    "newNameTable = nameTable[0:0+2] #copy format bytes\n",
    "\n",
    "newNumNames = 2\n",
    "\n",
    "newNameTable += struct.pack(\">H\", newNumNames) #count\n",
    "newNameTable += struct.pack(\">H\", 6 + newNumNames * 12) #stringOffset\n",
    "\n",
    "#nameRecords\n",
    "curIdx = 0 #current name index\n",
    "curOff = 6 + 12 * curIdx\n",
    "newNameTable += nameTable[curOff:curOff+10]\n",
    "newNameTable += struct.pack(\">H\", 0) #OFFSET\n",
    "\n",
    "curIdx = psNameIndex #current name index\n",
    "curOff = 6 + 12 * curIdx\n",
    "newNameTable += nameTable[curOff:curOff+10]\n",
    "newNameTable += struct.pack(\">H\", assumedNameLength)\n",
    "\n",
    "newNameTable += newNameBinary\n",
    "newNameTable += newPsNameBinary\n",
    "\n",
    "tableMemory[nameTableIndex] = newNameTable"
   ]
  },
  {
   "cell_type": "code",
   "execution_count": 11,
   "metadata": {},
   "outputs": [
    {
     "name": "stdout",
     "output_type": "stream",
     "text": [
      "[21, 65, 69, 78, 87, 123, 125, 134, 144, 184, 187, 194, 205, 209, 220, 270, 273, 274, 285, 301, 312, 351, 354, 361, 364, 374]\n",
      "[595, 659, 663, 672, 681, 710, 712, 721, 732, 750, 753, 760, 781, 785, 796, 834, 837, 838, 849, 863, 875, 907, 910, 918, 921, 932]\n",
      "[274, 21, 125, 123, 285, 374, 270, 364, 361, 354, 312, 65, 78, 194, 209, 351, 301, 144, 87, 220, 134, 273, 187, 205, 69, 184]\n",
      "[838, 595, 712, 710, 849, 932, 834, 921, 918, 910, 875, 659, 672, 760, 785, 907, 863, 732, 681, 796, 721, 837, 753, 781, 663, 750]\n"
     ]
    }
   ],
   "source": [
    "cmap_index = tags.index(\"cmap\")\n",
    "cmap_table = tableMemory[cmap_index]\n",
    "\n",
    "assert struct.unpack(\">H\", cmap_table[0:0+2])[0] == 0\n",
    "assert struct.unpack(\">H\", cmap_table[2:2+2])[0] == 4\n",
    "\n",
    "assert struct.unpack(\">H\", cmap_table[12:12+2])[0] == 0\n",
    "assert struct.unpack(\">H\", cmap_table[14:14+2])[0] == 4\n",
    "cmap12_offset = struct.unpack(\">I\", cmap_table[16:16+4])[0]\n",
    "\n",
    "#obtain original group data\n",
    "\n",
    "cmap12_length = struct.unpack(\">I\", cmap_table[cmap12_offset+4:cmap12_offset+4+4])[0]\n",
    "cmap12 = cmap_table[cmap12_offset:cmap12_offset+cmap12_length]\n",
    "cmap12_nGroups = struct.unpack(\">I\", cmap12[12:12+4])[0]\n",
    "\n",
    "#parse original group data\n",
    "cmap12_groups = cmap12[16:]\n",
    "startCharCodes = []\n",
    "endCharCodes = []\n",
    "startGlyphCodes = []\n",
    "for i in range(0, cmap12_nGroups):\n",
    "    group_index = i * 12\n",
    "    startCharCodes.append(struct.unpack(\">I\", cmap12_groups[group_index:group_index+4])[0])\n",
    "    endCharCodes.append(struct.unpack(\">I\", cmap12_groups[group_index+4:group_index+4+4])[0])\n",
    "    startGlyphCodes.append(struct.unpack(\">I\", cmap12_groups[group_index+8:group_index+4+8])[0])\n",
    "\n",
    "#create mapping for latin characters in question\n",
    "\n",
    "def charToGlyph(charCode):\n",
    "    group = None\n",
    "    for i in range(0, len(endCharCodes)):\n",
    "        if endCharCodes[i] >= charCode:\n",
    "            group = i\n",
    "            break\n",
    "    return startGlyphCodes[group] + (charCode - startCharCodes[group])\n",
    "\n",
    "latinUppercase = range(65, 90 + 1) #+1 because range upper bound not inclusive\n",
    "latinUppercaseGlyphs = []\n",
    "for charCode in latinUppercase:\n",
    "    latinUppercaseGlyphs.append(charToGlyph(charCode))\n",
    "print(latinUppercaseGlyphs)\n",
    "\n",
    "latinLowercase = range(97, 122 + 1) #+1 because range upper bound not inclusive\n",
    "latinLowercaseGlyphs = []\n",
    "for charCode in latinLowercase:\n",
    "    latinLowercaseGlyphs.append(charToGlyph(charCode))\n",
    "print(latinLowercaseGlyphs)\n",
    "\n",
    "\n",
    "#create shuffle key\n",
    "from random import shuffle\n",
    "\n",
    "shuffle_key = range(0, 26)\n",
    "shuffle(shuffle_key)\n",
    "\n",
    "#Shuffle glyphs\n",
    "latinUpperShuffled = []\n",
    "latinLowerShuffled = []\n",
    "for pos in shuffle_key:\n",
    "    latinUpperShuffled.append(latinUppercaseGlyphs[pos])\n",
    "    latinLowerShuffled.append(latinLowercaseGlyphs[pos])\n",
    "print(latinUpperShuffled)\n",
    "print(latinLowerShuffled)\n",
    "\n",
    "#rewrite group data\n",
    "\n",
    "#uppercase\n",
    "startPos = startCharCodes.index(65)\n",
    "endPos = startCharCodes.index(90+1)\n",
    "charRange = range(65, 90+1)\n",
    "startCharCodes = startCharCodes[:startPos] + charRange + startCharCodes[endPos:]\n",
    "endCharCodes = endCharCodes[:startPos] + charRange + endCharCodes[endPos:]\n",
    "startGlyphCodes = startGlyphCodes[:startPos] + latinUpperShuffled + startGlyphCodes[endPos:]\n",
    "\n",
    "#lowercase\n",
    "startPos = startCharCodes.index(97)\n",
    "endPos = startCharCodes.index(122+1)\n",
    "charRange = range(97, 122+1)\n",
    "startCharCodes = startCharCodes[:startPos] + charRange + startCharCodes[endPos:]\n",
    "endCharCodes = endCharCodes[:startPos] + charRange + endCharCodes[endPos:]\n",
    "startGlyphCodes = startGlyphCodes[:startPos] + latinLowerShuffled + startGlyphCodes[endPos:]\n",
    "\n",
    "#format 4 is obnoxious to work with, and seemingly unnecessary\n",
    "#our new cmap table will only include a format 12 table, so we might as well just completely rewrite it\n",
    "\n",
    "new_cmap_table = cmap_table[0:2] #version number\n",
    "new_cmap_table += struct.pack(\">H\", 2) #num subtables\n",
    "\n",
    "new_cmap_table += struct.pack(\">H\", 0) #unicode\n",
    "new_cmap_table += struct.pack(\">H\", 4) #unicode 2.0+\n",
    "new_cmap_table += struct.pack(\">I\", 20) #offset (4 + 8 * num subtables)\n",
    "\n",
    "new_cmap_table += struct.pack(\">H\", 3) #windows\n",
    "new_cmap_table += struct.pack(\">H\", 10) #unicode UCS-4\n",
    "new_cmap_table += struct.pack(\">I\", 20) #offset (4 + 8 * num subtables)\n",
    "\n",
    "#write actual subtable data\n",
    "new_cmap_table += cmap12[0:0+4] #first four bytes remain the same\n",
    "new_cmap12_length = len(startCharCodes) * 12 + 16 #16 byte header and 12 bytes per group\n",
    "new_cmap_table += struct.pack(\">I\", new_cmap12_length) #write length\n",
    "new_cmap_table += cmap12[8:8+4] #these bytes remain the same\n",
    "new_cmap_table += struct.pack(\">I\", len(startCharCodes)) #nGroups\n",
    "\n",
    "#write group data\n",
    "for i in range(0, len(startCharCodes)):\n",
    "    new_cmap_table += struct.pack(\">I\", startCharCodes[i])\n",
    "    new_cmap_table += struct.pack(\">I\", endCharCodes[i])\n",
    "    new_cmap_table += struct.pack(\">I\", startGlyphCodes[i])\n",
    "\n",
    "#replace in memory\n",
    "tableMemory[cmap_index] = new_cmap_table"
   ]
  },
  {
   "cell_type": "code",
   "execution_count": 12,
   "metadata": {},
   "outputs": [],
   "source": [
    "#The offset subtable (the first table) should not have to change at all as the number of tables remains constant\n",
    "#The table directory, however, will have to change as the checkSums, offsets, and lengths of some tables will change"
   ]
  },
  {
   "cell_type": "code",
   "execution_count": 13,
   "metadata": {},
   "outputs": [],
   "source": [
    "#debug\n",
    "if \"of\" in globals().keys():\n",
    "    of.close()\n",
    "    print(\"File Reloaded!\")\n",
    "\n",
    "out_file_name = \"randomized.ttf\"\n",
    "of = open(out_file_name, \"w+\")"
   ]
  },
  {
   "cell_type": "code",
   "execution_count": 14,
   "metadata": {},
   "outputs": [],
   "source": [
    "def writeObject(object_type, obj):\n",
    "    if object_type == \"uint32\":\n",
    "        of.write(struct.pack(\">I\", obj))\n",
    "    elif object_type == \"uint16\":\n",
    "        of.write(struct.pack(\">H\", obj))\n",
    "    elif object_type == \"uint8\":\n",
    "        of.write(struct.pack(\">B\", obj))\n",
    "    elif object_type == \"formal_tag\":\n",
    "        for i in range(0, 4):\n",
    "            writeObject(\"uint16\", obj[i])\n",
    "    elif object_type == \"informal_tag\":\n",
    "        for i in range(0, 4):\n",
    "            writeObject(\"uint8\", ord(obj[i]))\n",
    "    else:\n",
    "        raise ValueError(\"Type Not Understood\")"
   ]
  },
  {
   "cell_type": "code",
   "execution_count": 15,
   "metadata": {},
   "outputs": [],
   "source": [
    "#offset subtable\n",
    "writeObject(\"uint32\", 0x00010000)\n",
    "writeObject(\"uint16\", numTables)\n",
    "writeObject(\"uint16\", searchRange)\n",
    "writeObject(\"uint16\", entrySelector)\n",
    "writeObject(\"uint16\", rangeShift)"
   ]
  },
  {
   "cell_type": "code",
   "execution_count": 16,
   "metadata": {},
   "outputs": [],
   "source": [
    "def calcCheckSum(tableData):\n",
    "    sum = 0\n",
    "    for i in range(0, (len(tableData) + 3) / 4):\n",
    "    #for i in range(0, (lengths[5] + 3) / 4):\n",
    "        sum += struct.unpack(\">I\", tableData[i*4:i*4+4])[0]\n",
    "    return sum % 4294967296"
   ]
  },
  {
   "cell_type": "code",
   "execution_count": 17,
   "metadata": {},
   "outputs": [
    {
     "name": "stdout",
     "output_type": "stream",
     "text": [
      "1594753780\n"
     ]
    }
   ],
   "source": [
    "#set checkSumAdjustment to 0 in tableMemory\n",
    "head_index = tags.index(\"head\")\n",
    "head = tableMemory[head_index][:]\n",
    "print(struct.unpack(\">I\", head[8:12])[0])\n",
    "head = head[0:8] + struct.pack(\">I\", 0) + head[12:]\n",
    "tableMemory[head_index] = head\n",
    "\n",
    "#record new table lengths and pad tables\n",
    "newLengths = []\n",
    "for i in range(0, numTables):\n",
    "    newLengths.append(len(tableMemory[i]))\n",
    "    while len(tableMemory[i]) % 4 != 0:\n",
    "        tableMemory[i] += struct.pack(\">B\", 0)\n",
    "\n",
    "#Iterate Tables\n",
    "offsetAddresses = []\n",
    "for i in range(0, numTables):\n",
    "    #tag\n",
    "    writeObject(\"informal_tag\", tags[i])\n",
    "    #checkSum (calculated via the function)\n",
    "    writeObject(\"uint32\", calcCheckSum(tableMemory[i]))\n",
    "    #offset (to be filled in later)\n",
    "    offsetAddresses.append(of.tell())\n",
    "    writeObject(\"uint32\", 0)\n",
    "    #length (not padded, though the tables in memory are padded by up to 3 bytes)\n",
    "    writeObject(\"uint32\", newLengths[i])\n",
    "    #temp_table = tableMemory[i][:]\n",
    "    #while struct.unpack(\">B\", temp_table[-1:])[0] == 0 and len(temp_table) >= len(tableMemory[i]) - 2:\n",
    "    #    print(i)\n",
    "    #    temp_table = temp_table[:-1]\n",
    "    #writeObject(\"uint32\", len(temp_table))"
   ]
  },
  {
   "cell_type": "code",
   "execution_count": 18,
   "metadata": {},
   "outputs": [
    {
     "name": "stdout",
     "output_type": "stream",
     "text": [
      "[12, 13, 16, 5, 14, 8, 15, 10, 18, 19, 0, 1, 2, 3, 4, 6, 7, 9, 11, 17, 20]\n"
     ]
    }
   ],
   "source": [
    "sortedOffsets = sorted(offsets)\n",
    "sortedIndices = []\n",
    "for i in range(0, len(sortedOffsets)):\n",
    "    sortedIndices.append(offsets.index(sortedOffsets[i]))\n",
    "print(sortedIndices)"
   ]
  },
  {
   "cell_type": "code",
   "execution_count": 19,
   "metadata": {},
   "outputs": [],
   "source": [
    "newHeadOffset = 0\n",
    "for i in sortedIndices:\n",
    "    #save current offset\n",
    "    current_offset = of.tell()\n",
    "    if tags[i] == \"head\":\n",
    "        newHeadOffset = current_offset\n",
    "    #go back and fill in offset in table directory table\n",
    "    of.seek(offsetAddresses[i])\n",
    "    writeObject(\"uint32\", current_offset)\n",
    "    #return to the offset for the table to be written to\n",
    "    of.seek(current_offset)\n",
    "    #write table\n",
    "    of.write(tableMemory[i])\n",
    "newFileLength = of.tell()"
   ]
  },
  {
   "cell_type": "code",
   "execution_count": 20,
   "metadata": {},
   "outputs": [
    {
     "name": "stdout",
     "output_type": "stream",
     "text": [
      "3688893513\n"
     ]
    }
   ],
   "source": [
    "#calculate checkSumAdjustment\n",
    "of.seek(0)\n",
    "sum = 0\n",
    "for i in range(0, newFileLength / 4):\n",
    "    sum += struct.unpack(\">I\", of.read(4))[0]\n",
    "checkSumAdjustment = (0xB1B0AFBA - sum) % 4294967296\n",
    "print(checkSumAdjustment)\n",
    "#write checkSumAdjustment\n",
    "of.seek(newHeadOffset + 8)\n",
    "writeObject(\"uint32\", checkSumAdjustment)"
   ]
  },
  {
   "cell_type": "code",
   "execution_count": 21,
   "metadata": {},
   "outputs": [],
   "source": [
    "#close file\n",
    "of.close()"
   ]
  },
  {
   "cell_type": "code",
   "execution_count": null,
   "metadata": {},
   "outputs": [],
   "source": []
  },
  {
   "cell_type": "code",
   "execution_count": null,
   "metadata": {},
   "outputs": [],
   "source": []
  },
  {
   "cell_type": "code",
   "execution_count": null,
   "metadata": {},
   "outputs": [],
   "source": []
  },
  {
   "cell_type": "code",
   "execution_count": null,
   "metadata": {},
   "outputs": [],
   "source": []
  },
  {
   "cell_type": "code",
   "execution_count": null,
   "metadata": {},
   "outputs": [],
   "source": []
  },
  {
   "cell_type": "code",
   "execution_count": null,
   "metadata": {},
   "outputs": [],
   "source": []
  },
  {
   "cell_type": "code",
   "execution_count": null,
   "metadata": {},
   "outputs": [],
   "source": []
  },
  {
   "cell_type": "code",
   "execution_count": null,
   "metadata": {},
   "outputs": [],
   "source": []
  }
 ],
 "metadata": {
  "kernelspec": {
   "display_name": "Python 2",
   "language": "python",
   "name": "python2"
  },
  "language_info": {
   "codemirror_mode": {
    "name": "ipython",
    "version": 2
   },
   "file_extension": ".py",
   "mimetype": "text/x-python",
   "name": "python",
   "nbconvert_exporter": "python",
   "pygments_lexer": "ipython2",
   "version": "2.7.16"
  }
 },
 "nbformat": 4,
 "nbformat_minor": 2
}
